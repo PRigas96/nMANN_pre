{
 "cells": [
  {
   "cell_type": "markdown",
   "metadata": {},
   "source": [
    "# nM ANN for Rtrees"
   ]
  },
  {
   "cell_type": "code",
   "execution_count": 14,
   "metadata": {},
   "outputs": [],
   "source": [
    "# imports\n",
    "import numpy as np\n",
    "import matplotlib.pyplot as plt\n",
    "from rtree import index\n",
    "from utils import utils,utils2\n",
    "from utils import geometry as geo\n",
    "from utils import visualization as vis\n",
    "from utils import kde as kde\n",
    "from utils import nnrtree as nnrtree"
   ]
  },
  {
   "cell_type": "markdown",
   "metadata": {},
   "source": [
    "## Load Dataset"
   ]
  },
  {
   "cell_type": "code",
   "execution_count": 15,
   "metadata": {},
   "outputs": [
    {
     "name": "stdout",
     "output_type": "stream",
     "text": [
      "There are 4161 polygons in the dataset\n",
      "There are 10000 [x,y] points\n",
      "There are 10000 square objects as results\n"
     ]
    }
   ],
   "source": [
    "# small or large dataset\n",
    "data,points_tot,sq_bf = utils2.choose_data('large')"
   ]
  },
  {
   "cell_type": "markdown",
   "metadata": {},
   "source": [
    "## Plot Data"
   ]
  },
  {
   "cell_type": "code",
   "execution_count": null,
   "metadata": {},
   "outputs": [],
   "source": [
    "# plot the data to see what we are dealing with\n",
    "min_ = 0\n",
    "max_ = 300\n",
    "size_max = 4\n",
    "vis.plot_data(data,40,[min_ - size_max, max_ + size_max, min_ - size_max, max_ + size_max])"
   ]
  },
  {
   "cell_type": "markdown",
   "metadata": {},
   "source": [
    "## Clustering"
   ]
  },
  {
   "cell_type": "code",
   "execution_count": null,
   "metadata": {},
   "outputs": [],
   "source": [
    "# perform the cluster\n",
    "clusters,bw_opt,ans_res = kde.optimal_clustering(data)"
   ]
  },
  {
   "cell_type": "code",
   "execution_count": 19,
   "metadata": {},
   "outputs": [
    {
     "name": "stdout",
     "output_type": "stream",
     "text": [
      "number of spaces:  5\n",
      "space rotation:  13.45469472145647\n",
      "space rotation:  32.22549381128449\n",
      "space rotation:  45.53784634790946\n",
      "space rotation:  63.8968773327529\n",
      "space rotation:  82.61103543851586\n"
     ]
    }
   ],
   "source": [
    "# number of spaces is equal to number of clusters\n",
    "print(\"number of spaces: \", clusters.__len__())\n",
    "# space rotation is equal to the mean of the cluster\n",
    "for i in range(clusters.__len__()):\n",
    "    print(\"space rotation: \", np.mean(clusters[i][:,-1]))"
   ]
  },
  {
   "cell_type": "markdown",
   "metadata": {},
   "source": [
    "## Indexing"
   ]
  },
  {
   "cell_type": "code",
   "execution_count": 20,
   "metadata": {},
   "outputs": [
    {
     "name": "stdout",
     "output_type": "stream",
     "text": [
      "There are 5 Rtrees\n",
      "There are 1706 bounding boxes in the Rtree\n",
      "There are 761 bounding boxes in the Rtree\n",
      "There are 693 bounding boxes in the Rtree\n",
      "There are 806 bounding boxes in the Rtree\n",
      "There are 195 bounding boxes in the Rtree\n"
     ]
    }
   ],
   "source": [
    "# we are gonna create an Rtree with the data as bounding boxes of ids and the data\n",
    "idx = utils2.index_rtree(clusters)\n",
    "print(\"There are {} Rtrees\".format(idx.__len__()))\n",
    "for _ in range(idx.__len__()):\n",
    "    print(\"There are {} bounding boxes in the Rtree\".format(idx[_].__len__()))\n"
   ]
  },
  {
   "cell_type": "markdown",
   "metadata": {},
   "source": [
    "## Accuracy"
   ]
  },
  {
   "cell_type": "code",
   "execution_count": 21,
   "metadata": {},
   "outputs": [
    {
     "name": "stdout",
     "output_type": "stream",
     "text": [
      "The accuracy is: 91.01%\n"
     ]
    }
   ],
   "source": [
    "# lets see the accuracy\n",
    "num_of_points = 10000\n",
    "points = points_tot[:num_of_points]\n",
    "acc = 0\n",
    "for p in range(len(points)):\n",
    "    sq = []\n",
    "    for i in range(clusters.__len__()):\n",
    "        cnt = nnrtree.NNRTREE(idx[i], points[p],clusters[i], 1)[0][0]\n",
    "        sq.append(clusters[i][cnt])\n",
    "    for j in range(len(sq)):\n",
    "        if np.all(sq[j][0:-1] == sq_bf[p][0:-1]):\n",
    "            acc += 1\n",
    "            \n",
    "print(\"The accuracy is: {}%\".format(acc/num_of_points*100))\n"
   ]
  }
 ],
 "metadata": {
  "kernelspec": {
   "display_name": "Python 3.10.8 64-bit",
   "language": "python",
   "name": "python3"
  },
  "language_info": {
   "codemirror_mode": {
    "name": "ipython",
    "version": 3
   },
   "file_extension": ".py",
   "mimetype": "text/x-python",
   "name": "python",
   "nbconvert_exporter": "python",
   "pygments_lexer": "ipython3",
   "version": "3.10.8"
  },
  "orig_nbformat": 4,
  "vscode": {
   "interpreter": {
    "hash": "fdd3b9c0dd1375b0cc154880cc37d79c0440eaafec1b5af1fb9573cf2afd776b"
   }
  }
 },
 "nbformat": 4,
 "nbformat_minor": 2
}

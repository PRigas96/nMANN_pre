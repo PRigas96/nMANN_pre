{
 "cells": [
  {
   "cell_type": "markdown",
   "metadata": {},
   "source": [
    "# nM ANN for Quadtrees"
   ]
  },
  {
   "cell_type": "code",
   "execution_count": 1,
   "metadata": {},
   "outputs": [],
   "source": [
    "import numpy as np\n",
    "import random\n",
    "import matplotlib.pyplot as plt\n",
    "from utils import utils, utils2\n",
    "from utils import geometry as geo\n",
    "from utils import visualization as vis\n",
    "from utils import kde as kde\n",
    "from rtree import index\n",
    "import numpy as np\n",
    "import random\n",
    "import time\n",
    "import matplotlib.pyplot as plt\n",
    "import matplotlib.patches as patches\n",
    "from matplotlib.collections import PolyCollection, PatchCollection\n",
    "import matplotlib as mpl\n",
    "from utils.utils import *\n",
    "import pickle"
   ]
  },
  {
   "cell_type": "markdown",
   "metadata": {},
   "source": [
    "## Load Dataset"
   ]
  },
  {
   "cell_type": "code",
   "execution_count": 2,
   "metadata": {},
   "outputs": [
    {
     "name": "stdout",
     "output_type": "stream",
     "text": [
      "There are 861 polygons in the dataset\n",
      "There are 10000 [x,y] points\n",
      "There are 10000 square objects as results\n"
     ]
    }
   ],
   "source": [
    "# small or large dataset\n",
    "data,points_tot,sq_bf = utils2.choose_data('small')"
   ]
  },
  {
   "cell_type": "markdown",
   "metadata": {},
   "source": [
    "## Plot Data"
   ]
  },
  {
   "cell_type": "code",
   "execution_count": null,
   "metadata": {},
   "outputs": [],
   "source": [
    "# plot the data to see what we are dealing with\n",
    "min_ = 0\n",
    "max_ = 300\n",
    "size_max = 4\n",
    "vis.plot_data(data,40,[min_ - size_max, max_ + size_max, min_ - size_max, max_ + size_max])"
   ]
  },
  {
   "cell_type": "markdown",
   "metadata": {},
   "source": [
    "# Clustering"
   ]
  },
  {
   "cell_type": "code",
   "execution_count": null,
   "metadata": {},
   "outputs": [],
   "source": [
    "# perform the cluster\n",
    "clusters,bw_opt,ans_res = kde.optimal_clustering(data)"
   ]
  },
  {
   "cell_type": "code",
   "execution_count": 4,
   "metadata": {},
   "outputs": [
    {
     "name": "stdout",
     "output_type": "stream",
     "text": [
      "number of spaces:  5\n",
      "space rotation:  11.334776258590793\n",
      "space rotation:  32.111401843871704\n",
      "space rotation:  46.952821942256804\n",
      "space rotation:  62.86349766139153\n",
      "space rotation:  85.25636014520623\n"
     ]
    }
   ],
   "source": [
    "# number of spaces is equal to number of clusters\n",
    "print(\"number of spaces: \", clusters.__len__())\n",
    "# space rotation is equal to the mean of the cluster\n",
    "for i in range(clusters.__len__()):\n",
    "    print(\"space rotation: \", np.mean(clusters[i][:,-1]))"
   ]
  },
  {
   "cell_type": "markdown",
   "metadata": {},
   "source": [
    "## Indexing"
   ]
  },
  {
   "cell_type": "code",
   "execution_count": 5,
   "metadata": {},
   "outputs": [],
   "source": [
    "# to each cluster set angle to  radians from degrees\n",
    "for i in range(clusters.__len__()):\n",
    "    clusters[i][:,-1] = np.radians(clusters[i][:,-1])"
   ]
  },
  {
   "cell_type": "code",
   "execution_count": 6,
   "metadata": {},
   "outputs": [
    {
     "name": "stdout",
     "output_type": "stream",
     "text": [
      "Number of indexes: 5\n"
     ]
    }
   ],
   "source": [
    "# create a quadtree index for each clusters\n",
    "qindex = [QIndex(cluster) for cluster in clusters] # each qindex is an object of QIndex class\n",
    "print(\"Number of indexes:\", len(qindex))"
   ]
  },
  {
   "cell_type": "markdown",
   "metadata": {},
   "source": [
    "## Accuracy"
   ]
  },
  {
   "cell_type": "code",
   "execution_count": 8,
   "metadata": {},
   "outputs": [
    {
     "name": "stdout",
     "output_type": "stream",
     "text": [
      "The accuracy is: 94.47%\n"
     ]
    }
   ],
   "source": [
    "# lets see accuracy\n",
    "num_of_points = 10000\n",
    "points = points_tot[0:num_of_points]\n",
    "\n",
    "acc = 0\n",
    "for p in range(len(points)):\n",
    "    val = False\n",
    "    sq = []\n",
    "    for i in range(len(qindex)):\n",
    "        idx = nmann(qindex[i], points[p])[0][0]\n",
    "        sq.append(clusters[i][idx])\n",
    "\n",
    "    for j in range(len(sq)):\n",
    "        if np.all(sq[j][0:-1] == sq_bf[p][0:-1]):\n",
    "            #print(\"j is\",j)\n",
    "            acc += 1\n",
    "            val = True\n",
    "\n",
    "print(\"The accuracy is: {}%\".format(acc/num_of_points*100))"
   ]
  }
 ],
 "metadata": {
  "kernelspec": {
   "display_name": "Python 3.10.8 64-bit",
   "language": "python",
   "name": "python3"
  },
  "language_info": {
   "codemirror_mode": {
    "name": "ipython",
    "version": 3
   },
   "file_extension": ".py",
   "mimetype": "text/x-python",
   "name": "python",
   "nbconvert_exporter": "python",
   "pygments_lexer": "ipython3",
   "version": "3.10.8"
  },
  "orig_nbformat": 4,
  "vscode": {
   "interpreter": {
    "hash": "fdd3b9c0dd1375b0cc154880cc37d79c0440eaafec1b5af1fb9573cf2afd776b"
   }
  }
 },
 "nbformat": 4,
 "nbformat_minor": 2
}
